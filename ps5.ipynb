{
 "cells": [
  {
   "cell_type": "code",
   "execution_count": 19,
   "metadata": {},
   "outputs": [
    {
     "name": "stdout",
     "output_type": "stream",
     "text": [
      "X_n = 0.14805203443026085\n"
     ]
    }
   ],
   "source": [
    "import numpy as np\n",
    "from scipy.integrate import quad\n",
    "\n",
    "tau_n = 886.7\n",
    "G = 1.545e-2\n",
    "g_star = 10.75 \n",
    "Q = 1.293\n",
    "x_i = 1e-3\n",
    "\n",
    "def lambda_np(x):\n",
    "    return ((255 / tau_n) * (12 + 6 * x + x**2) ) / x**5\n",
    "\n",
    "def H(x):\n",
    "    return ((Q /(x**2)) * np.sqrt((4 * np.pi**3 * G * g_star * Q**2) / 45))\n",
    "\n",
    "def mu(x):\n",
    "    return -(255 / (tau_n * Q)) * ((4 * np.pi**3 * G * g_star * Q**2) / 45)**(-1/2) * ((4 / x**3) + (3 / x**2) + (1 / x) + ((4 / x**3) + (1 / x**2)) * np.exp(-x))\n",
    "\n",
    "def integrand(x_prime, x):\n",
    "    return lambda_np(x_prime) * np.exp(mu(x_prime) - mu(x) - x_prime) / (x_prime * H(x_prime))\n",
    "\n",
    "def X_n(x):\n",
    "    result, _ = quad(integrand, x_i, x, args=(x))\n",
    "    return result\n",
    "\n",
    "X_n_result = X_n(10000)\n",
    "\n",
    "print(f\"X_n = {X_n_result}\")"
   ]
  }
 ],
 "metadata": {
  "kernelspec": {
   "display_name": "Python 3",
   "language": "python",
   "name": "python3"
  },
  "language_info": {
   "codemirror_mode": {
    "name": "ipython",
    "version": 3
   },
   "file_extension": ".py",
   "mimetype": "text/x-python",
   "name": "python",
   "nbconvert_exporter": "python",
   "pygments_lexer": "ipython3",
   "version": "3.8.10"
  }
 },
 "nbformat": 4,
 "nbformat_minor": 2
}
